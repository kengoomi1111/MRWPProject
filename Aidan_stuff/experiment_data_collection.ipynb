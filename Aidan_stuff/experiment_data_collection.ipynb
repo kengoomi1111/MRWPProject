{
 "cells": [
  {
   "attachments": {},
   "cell_type": "markdown",
   "metadata": {},
   "source": [
    "# Experiment Data Collection\n",
    "### Running the Experiments\n",
    "\n",
    "The method ```create_network``` begins with a specified graph, and adds nodes one by one. using the function ```create_edge```.\n",
    "With each node added, edges are also added according to specified rules (*binomial / scale-free / directed binomial / directed scale-free*). "
   ]
  },
  {
   "cell_type": "code",
   "execution_count": 55,
   "metadata": {},
   "outputs": [],
   "source": [
    "import networkx as nx\n",
    "import random\n",
    "\n",
    "# Setting seed.\n",
    "random.seed(101)\n",
    "\n",
    "# Binomial edge allocation probability.\n",
    "binomial_probability = 0.1\n",
    "\n",
    "# Setting recursion rules\n",
    "recursion_level = 0\n",
    "recursion_threshold = 100\n",
    "\n",
    "# Edge creation function.\n",
    "def create_edge(G, i, j, capacity, changes, edge_reallocation_algorithm, directed):\n",
    "    G.add_edge(i, j)  # Add an edge between the nodes.\n",
    "    changes.append(('add', i, j)) # Record changes for visualisation.\n",
    "    if directed:\n",
    "        if G.in_degree(j) > capacity:\n",
    "            edge_reallocation = reallocate_edge(G, j, capacity, changes, edge_reallocation_algorithm, directed)\n",
    "    else:\n",
    "        if G.degree(j) > capacity:  # If over capacity, remove node's edges.\n",
    "            edge_reallocation = reallocate_edge(G, j, capacity, changes, edge_reallocation_algorithm, directed)\n",
    "            if not edge_reallocation:\n",
    "                return False\n",
    "    return True\n",
    "\n",
    "# Edge reallocation algorithm.\n",
    "def reallocate_edge(G, node, capacity, changes, edge_reallocation_algorithm, directed):\n",
    "    global recursion_level\n",
    "    global recursion_threshold\n",
    "    neighbors = list(G.neighbors(node))\n",
    "    predecessors = list(G.predecessors(node)) if directed else None\n",
    "    for neighbor in neighbors:\n",
    "        if G.has_edge(neighbor, node):\n",
    "            changes.append(('remove', neighbor, node))  # Record changes for visualisation.\n",
    "            G.remove_edge(node, neighbor)  # Remove each edge individually\n",
    "    if directed:\n",
    "        node_list = predecessors\n",
    "    else:\n",
    "        node_list = neighbors\n",
    "        # Iterate through the former neighbors.\n",
    "        for node in node_list:\n",
    "            potential_nodes = [n for n in G.nodes if not G.has_edge(node, n) and n != node]\n",
    "            if edge_reallocation_algorithm == 'binomial':\n",
    "                selected_node = random.choice(potential_nodes)\n",
    "            elif edge_reallocation_algorithm == 'scale-free':\n",
    "                degrees = [G.in_degree(n) for n in potential_nodes] if directed else [G.degree(n) for n in potential_nodes]\n",
    "                selected_node = random.choices(potential_nodes, weights=degrees, k=1)[0]\n",
    "            else:\n",
    "                selected_node = random.choice(potential_nodes)\n",
    "            recursion_level += 1\n",
    "            if recursion_level > recursion_threshold:\n",
    "                return False\n",
    "            create_edge(G, node, selected_node, capacity, changes, edge_reallocation_algorithm, directed)\n",
    "    return True\n",
    "\n",
    "# Network Creation\n",
    "def create_network(n_nodes, capacity, edge_allocation_algorithm, edge_reallocation_algorithm, directed):\n",
    "    global recursion_level\n",
    "    global binomial_probability\n",
    "    G_init = nx.DiGraph() if directed else nx.Graph()\n",
    "    G = G_init.copy()\n",
    "    changes = []\n",
    "    for i in range(n_nodes):\n",
    "        G.add_node(i)\n",
    "        if i > 1:\n",
    "            for j in range(i - 1):\n",
    "                if edge_allocation_algorithm == 'binomial':\n",
    "                    probability = binomial_probability\n",
    "                elif edge_allocation_algorithm == 'scale-free':\n",
    "                    degrees = [G.in_degree(n) for n in G.nodes] if directed else [G.degree(n) for n in G.nodes]\n",
    "                    total_degree = sum(degrees)\n",
    "                    probability = degrees[j]/total_degree if total_degree > 0 else 0\n",
    "                else:\n",
    "                    probability = binomial_probability\n",
    "                if random.random() < probability:\n",
    "                    edge_creation = create_edge(G, i, j, capacity, changes, edge_reallocation_algorithm, directed)\n",
    "                    if not edge_creation:\n",
    "                        print('Ending experiment (recursion will likely be infinite).')\n",
    "                        return G_init, changes\n",
    "\n",
    "    print('Ending experiment (network size reached).')\n",
    "    return G_init, changes"
   ]
  },
  {
   "attachments": {},
   "cell_type": "markdown",
   "metadata": {},
   "source": [
    "### Writing the Changes to GEXF files.\n",
    "\n",
    "The create_network function returns the initial graph and a list of changes made to it.\n",
    "These are subsequently stored in a GEXF file."
   ]
  },
  {
   "cell_type": "code",
   "execution_count": 56,
   "metadata": {},
   "outputs": [],
   "source": [
    "def write_to_gexfs(G_init, changes, path):\n",
    "    G = G_init.copy()  # Make a copy of the initial graph\n",
    "    for timestep, change in enumerate(changes):\n",
    "        operation, i, j = change\n",
    "        if operation == 'add':\n",
    "            G.add_edge(i, j)\n",
    "        elif operation == 'remove':\n",
    "            G.remove_edge(i, j)\n",
    "        nx.write_gexf(G, f\"{path}/timestep_{timestep}.gexf\") # type: ignore"
   ]
  },
  {
   "cell_type": "code",
   "execution_count": 57,
   "metadata": {},
   "outputs": [],
   "source": [
    "import os\n",
    "\n",
    "def run_experiment(n, capacity, parameters):\n",
    "    # edge_allocation_algorithm, edge_reallocation_algorithm, directed, name\n",
    "    edge_allocation_algorithm = parameters[0]\n",
    "    edge_reallocation_algorithm = parameters[1]\n",
    "    directed = parameters[2]\n",
    "    name = parameters[3]\n",
    "    G_init, changes = create_network(n, capacity, edge_allocation_algorithm, edge_reallocation_algorithm, directed)\n",
    "    path = f'/Users/aidanlowrie/Documents/GitHub/MRWPProject/Aidan_stuff/experiment_data/{name}'\n",
    "    os.makedirs(path, exist_ok=True)\n",
    "    write_to_gexfs(G_init, changes, path)"
   ]
  },
  {
   "cell_type": "code",
   "execution_count": 61,
   "metadata": {},
   "outputs": [
    {
     "name": "stdout",
     "output_type": "stream",
     "text": [
      "Ending experiment (network size reached).\n",
      "Ending experiment (network size reached).\n",
      "Ending experiment (network size reached).\n",
      "Ending experiment (network size reached).\n",
      "Ending experiment (network size reached).\n",
      "Ending experiment (network size reached).\n",
      "Ending experiment (network size reached).\n",
      "Ending experiment (network size reached).\n"
     ]
    }
   ],
   "source": [
    "# Not varying n or capacity. Varying algorithms and directedness.\n",
    "n = 100\n",
    "capacity = 10\n",
    "\n",
    "experiments = { 0:['binomial', 'binomial', 'undirected', 'undirected_binomial_graph_binomial_reallocation'], \n",
    "          1: ['binomial', 'scalefree', 'undirected', 'undirected_binomial_graph_scalefree_reallocation'],\n",
    "          2: ['scalefree', 'binomial', 'undirected', 'undirected_scalefree_graph_binomial_reallocation'],\n",
    "          3: ['scalefree', 'scalefree', 'undirected', 'undirected_scalefree_graph_scalefree_reallocation'],\n",
    "          4:['binomial', 'binomial', 'directed', 'directed_binomial_graph_binomial_reallocation'], \n",
    "          5: ['binomial', 'scalefree', 'directed', 'directed_binomial_graph_scalefree_reallocation'],\n",
    "          6: ['scalefree', 'binomial', 'directed', 'directed_scalefree_graph_binomial_reallocation'],\n",
    "          7: ['scalefree', 'scalefree', 'directed', 'directed_scalefree_graph_scalefree_reallocation']}\n",
    "\n",
    "for i in range(len(experiments.items())):\n",
    "    run_experiment(n, capacity, experiments[i])"
   ]
  }
 ],
 "metadata": {
  "kernelspec": {
   "display_name": "Python 3",
   "language": "python",
   "name": "python3"
  },
  "language_info": {
   "codemirror_mode": {
    "name": "ipython",
    "version": 3
   },
   "file_extension": ".py",
   "mimetype": "text/x-python",
   "name": "python",
   "nbconvert_exporter": "python",
   "pygments_lexer": "ipython3",
   "version": "3.11.1"
  },
  "orig_nbformat": 4
 },
 "nbformat": 4,
 "nbformat_minor": 2
}
